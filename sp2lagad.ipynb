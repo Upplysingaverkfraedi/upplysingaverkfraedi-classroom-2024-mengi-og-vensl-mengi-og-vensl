{
 "cells": [
  {
   "cell_type": "markdown",
   "metadata": {},
   "source": [
    "$\\textbf{Spurning 2: Veldismengi (20 stig)}$ $\\newline$\n",
    "Látum P(A) vera veldismengið af menginu $A$. Sýnið hvort að $P(A) \\subseteq P(P(A))$ sé alltaf það sama. Rökstyðjið af hverju eða af hverju ekki. (20 stig)\n",
    "Skýrið ítarlega með röksemdum hvort mengið $P(A)$ sé eða sé ekki hlutmengi af $P(P(A))$. Notið dæmi til að styðja röksemdir ykkar.\n",
    "\n",
    "\n",
    "$\\textbf{LAUSN:}$\n",
    "\n",
    "Til að álykta hvort $P(A) \\subseteq P(P(A))$ sé alltaf rétt þurfum skulum við byrja að á að skoða skilgreiningar.\n",
    "\n",
    "\n",
    "$\\textbf{SKILGREINING:}$ $\\newline$\n",
    "Byrjum á að skilgreina $P(A)$. Við vitum að veldismengi $A$ er táknað $P(A)$. Það lýsir mengi af öllum undirmengjum $A$. $\\newline$ Höfum þá formlega uppsetningu á því $P(A) = \\{ \\, B \\mid B \\subseteq A \\, \\}$ skv. netbók.\n",
    "\n",
    "Skilgreinum þá næst $P(P(A))$ sem merkir þá mengið af öllum undirmengjum $P(A)$. $\\newline$ Höfum þá formlega uppsetningu á því $P(P(A)) = \\{ C \\mid C \\subseteq P(P(A)) \\}$ skv. netbók. Það þýðir að $P(P(A))$ inniheldur allar mögulegar samsetningar af undirmengjum $P(A)$.\n",
    "\n",
    "\n",
    "Látum $A = \\{1\\}$. Þá er:\n",
    "\n",
    "$P(A) = \\{\\emptyset, \\{1\\}\\}$\n",
    "\n",
    "$P(P(A)) = \\{\\emptyset, \\{\\emptyset\\}, \\{\\{1\\}\\}, \\{\\emptyset, \\{1\\}\\}\\}$\n",
    "\n",
    "Til að svara spurningunni hvort mengið $P(A)$ sé eða sé ekki hlutmengi af $P(P(A))$:\n",
    "\n",
    "Til þess að $P(A) \\subseteq P(P(A))$ sé satt, þyrftu öll stök í $P(A)$ að vera hlutmengi í $P(P(A))$. Hins vegar eru stök í $P(A)$ hlutmengi af $A$, en ekki sjálfkrafa hlutmengi af $P(A)$. Þess vegna eru stök í $P(A)$ ekki sjálfkrafa í $P(P(A))$.\n",
    "\n",
    "Skoðum dæmi þar sem $A = \\{1\\}$. Þá er:\n",
    "\n",
    "$P(A) = \\{\\emptyset, \\{1\\}\\}.$\n",
    "\n",
    "Frumengi allra hlutmengja af $P(A)$, sem táknað er $P(P(A))$, verður safn allra hlutmengja af $P(A)$:\n",
    "\n",
    "$P(P(A)) = \\{\\emptyset, \\{\\emptyset\\}, \\{\\{1\\}\\}, P(A)\\}.$\n",
    "\n",
    "Athugum að $P(P(A))$ inniheldur $\\{\\{1\\}\\}$, þar sem það er hlutmengi af $P(A)$, en það inniheldur **ekki** $\\{1\\}$, þar sem $\\{1\\} \\notin P(P(A))$. Þetta þýðir að $\\{1\\}$ er ekki hlutmengi í $P(P(A))$.\n",
    "\n",
    "### Niðurstaða:\n",
    "$P(A) \\subseteq P(P(A))$ er **ekki satt**. Hvert hlutmengi af $A$ er stak í $P(A)$, en í $P(P(A))$ verða þessi hlutmengi sjálf að stökum í safni. Af þessari ástæðu er $P(A) \\subseteq P(P(A))$ ósatt.\n",
    "\n"
   ]
  }
 ],
 "metadata": {
  "language_info": {
   "name": "python"
  }
 },
 "nbformat": 4,
 "nbformat_minor": 2
}
