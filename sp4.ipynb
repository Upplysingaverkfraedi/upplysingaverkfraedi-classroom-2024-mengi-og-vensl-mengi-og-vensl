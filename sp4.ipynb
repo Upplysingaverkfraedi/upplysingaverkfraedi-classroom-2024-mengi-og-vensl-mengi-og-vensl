{
 "cells": [
  {
   "cell_type": "code",
   "execution_count": null,
   "metadata": {},
   "outputs": [],
   "source": [
    "pip install numpy matplotlib networkx"
   ]
  },
  {
   "cell_type": "code",
   "execution_count": 34,
   "metadata": {},
   "outputs": [
    {
     "name": "stdout",
     "output_type": "stream",
     "text": [
      "Fylkið fyrir dagsetninguna 28-05-2001 og seed 13122004:\n",
      "[[0 1 0 1]\n",
      " [0 0 0 1]\n",
      " [0 0 0 1]\n",
      " [0 0 0 0]]\n",
      "\n"
     ]
    }
   ],
   "source": [
    "# Búa til slembifræ/seed út frá dagsetningunni\n",
    "import numpy as np\n",
    "seed = int(f\"{13:02d}{12:02d}{2004}\")\n",
    "np.random.seed(seed)\n",
    "\n",
    "# Búa til 4x4 slembifylki með 0 eða 1\n",
    "fylki = np.random.randint(0, 2, size=(4, 4))\n",
    "\n",
    "# Endirskrifa dagssetninguna á formið \"dd-mm-yyyy\"\n",
    "formatted_date = f\"{28:02d}-{5:02d}-{2001}\"\n",
    "\n",
    "# Prenta niðurstöður:\n",
    "print(f\"Fylkið fyrir dagsetninguna {formatted_date} og seed {seed}:\")\n",
    "print(fylki)\n",
    "print()"
   ]
  },
  {
   "cell_type": "code",
   "execution_count": 35,
   "metadata": {},
   "outputs": [
    {
     "name": "stdout",
     "output_type": "stream",
     "text": [
      "Fylkið:\n",
      "[[0 1 0 1]\n",
      " [0 0 0 1]\n",
      " [0 0 0 1]\n",
      " [0 0 0 0]]\n",
      "Fylkið er sjálfhverft: False\n",
      "Fylkið er samhverft: False\n",
      "Fylkið er andsamhverft: True\n",
      "Fylkið er gegnvirkt: True\n"
     ]
    }
   ],
   "source": [
    "import numpy as np\n",
    "\n",
    "def athuga_sjalfhverf(fylki):\n",
    "    for i in range(len(fylki)):\n",
    "        if fylki[i][i] != 1:\n",
    "            return False\n",
    "    return True\n",
    "\n",
    "def athuga_samhverf(fylki):\n",
    "    for i in range(len(fylki)):\n",
    "        for j in range(len(fylki)):\n",
    "            if fylki[i][j] != fylki[j][i]:\n",
    "                return False\n",
    "    return True\n",
    "\n",
    "def athuga_andsamhverf(fylki):\n",
    "    for i in range(len(fylki)):\n",
    "        for j in range(len(fylki)):\n",
    "            if i != j and fylki[i][j] == 1 and fylki[j][i] == 1:\n",
    "                return False\n",
    "    return True\n",
    "\n",
    "def athuga_gegnvirk(fylki):\n",
    "    for i in range(len(fylki)):\n",
    "        for j in range(len(fylki)):\n",
    "            for k in range(len(fylki)):\n",
    "                if fylki[i][j] == 1 and fylki[j][k] == 1 and fylki[i][k] != 1:\n",
    "                    return False\n",
    "    return True\n",
    "\n",
    "# Dæmi 4x4 fylki (slembifylki eins og búið var til áður)\n",
    "# fylki = np.random.randint(0, 2, size=(4, 4))\n",
    "\n",
    "# Prenta fylkið\n",
    "print(\"Fylkið:\")\n",
    "print(fylki)\n",
    "\n",
    "# Athuga eiginleikana\n",
    "print(f\"Fylkið er sjálfhverft: {athuga_sjalfhverf(fylki)}\")\n",
    "print(f\"Fylkið er samhverft: {athuga_samhverf(fylki)}\")\n",
    "print(f\"Fylkið er andsamhverft: {athuga_andsamhverf(fylki)}\")\n",
    "print(f\"Fylkið er gegnvirkt: {athuga_gegnvirk(fylki)}\")\n",
    "\n",
    "#properties = check_properties(relation, set_elements)\n",
    "#print(properties)"
   ]
  },
  {
   "cell_type": "code",
   "execution_count": null,
   "metadata": {},
   "outputs": [],
   "source": [
    "import networkx as nx\n",
    "import matplotlib.pyplot as plt\n",
    "\n",
    "def draw_relation_graph(relation, set_elements):\n",
    "    G = nx.DiGraph()\n",
    "\n",
    "    # Bæta við hnútum\n",
    "    for node in set_elements:\n",
    "        G.add_node(node)\n",
    "\n",
    "    # Bæta við örvum fyrir venslin\n",
    "    for (a, b) in relation:\n",
    "        G.add_edge(a, b)\n",
    "\n",
    "    # Teikna netið\n",
    "    pos = nx.spring_layout(G)  # layout fyrir netið\n",
    "    nx.draw(G, pos, with_labels=True, node_color='lightblue', node_size=2000, font_size=16, font_weight='bold', arrows=True, arrowstyle='-|>', arrowsize=20)\n",
    "    plt.show()\n",
    "\n",
    "# Dæmi um notkun:\n",
    "relation = {(1, 1), (2, 2), (1, 2), (2, 1)}\n",
    "set_elements = {1, 2}\n",
    "\n",
    "draw_relation_graph(relation, set_elements)"
   ]
  }
 ],
 "metadata": {
  "kernelspec": {
   "display_name": "Python 3",
   "language": "python",
   "name": "python3"
  },
  "language_info": {
   "codemirror_mode": {
    "name": "ipython",
    "version": 3
   },
   "file_extension": ".py",
   "mimetype": "text/x-python",
   "name": "python",
   "nbconvert_exporter": "python",
   "pygments_lexer": "ipython3",
   "version": "3.10.11"
  }
 },
 "nbformat": 4,
 "nbformat_minor": 2
}
