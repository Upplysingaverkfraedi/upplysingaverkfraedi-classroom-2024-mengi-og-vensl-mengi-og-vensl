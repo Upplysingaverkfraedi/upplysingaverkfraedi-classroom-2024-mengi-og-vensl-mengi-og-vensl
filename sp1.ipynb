{
 "cells": [
  {
   "cell_type": "markdown",
   "metadata": {},
   "source": [
    "1. Mengjafræði"
   ]
  },
  {
   "cell_type": "markdown",
   "metadata": {},
   "source": [
    "a. Sýnið að sniðmengi A $\\cap$ = A \\ (A \\ B)\n",
    "\n",
    "Fyrst í þessu skal útskýra hvað (A $\\cap$ B) þýðir. \n",
    "(A $\\cap$ B) merkir það sem bæði er í A og B = (A $\\cap$ B).\n",
    "\n",
    "Það seinna til að útskýra er að (A \\ B) samanstendur af öllum þáttum sem eru í A en ekki í B. Það þýðir að A \\ (A \\ B) er það sem er bæði í A og B því fyrst er tekið B út (A \\ B) og svo er tekið A úr (A \\ B) sem endar sem (A $\\cap$ B).\n",
    "\n",
    "t.d\n",
    "Ef A = {1,2,3,4,5} og B = {5,6,7,8,9}\n",
    "Þá er fyrst reiknað (A \\ B) sem verður = {1,2,3,4}.\n",
    "Svo er A \\ \"(A \\ B)\" sem er það sem er í A en ekki í (A \\ B), sem er\n",
    "= {5}."
   ]
  },
  {
   "cell_type": "markdown",
   "metadata": {},
   "source": [
    "b. Sýnið að sammengi A $\\cup$ B = (A \\ B) $\\cup$ B\n",
    "\n",
    "Fyrst samstendur (A $\\cup$ B) af öllum hlutum sem eru í A og B, líka á milli A og B.\n",
    "\n",
    "Það seinna til að útskýra er að (A \\ B) samanstendur af öllum þáttum sem eru í A en ekki í B. Það þýðir að þegar (A \\ B) sameinast við B í (A \\ B) $\\cup$ B, þá er það orðið einangrað A og allt B set saman og verður það sama og A $\\cup$ B.\n",
    "\n",
    "t.d\n",
    "\n",
    "Ef A = {1,2,3,4} og B = {5,6,7,8,9}\n",
    "Þá er fyrst reiknað (A \\ B) sem verður = {1,2,3,4}.\n",
    "Svo er bætt því við $\\cup$ B, út út úr við sameinast mengin og loka svarið \n",
    "er = {1,2,3,4,5,6,7,8,9} sem er það sama og (A $\\cup$ B).\n"
   ]
  }
 ],
 "metadata": {
  "language_info": {
   "name": "python"
  }
 },
 "nbformat": 4,
 "nbformat_minor": 2
}
