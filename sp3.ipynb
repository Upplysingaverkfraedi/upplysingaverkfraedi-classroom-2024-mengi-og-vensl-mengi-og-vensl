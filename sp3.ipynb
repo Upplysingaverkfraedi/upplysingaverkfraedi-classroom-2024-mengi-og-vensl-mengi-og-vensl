{
 "cells": [
  {
   "cell_type": "markdown",
   "metadata": {},
   "source": [
    "## 3. Vensl (25 stig)\n",
    "\n",
    "**Sýnið og skýrið eftirfarandi:**\n",
    "\n",
    "a. **Dæmi um vensl á mengi sem eru bæði samhverf og andsamhverf.** (10 stig)\n",
    "\n",
    "b. **Munur á milli falla og vensla.** (5 stig)\n",
    "\n",
    "Skýrið ítarlega hvað gerir vensl samhverf og andsamhverf og nefnið dæmi. Skýrið einnig muninn á\n",
    "falli og vensli og gefið gott sýnidæmi um muninn.\n",
    "\n"
   ]
  },
  {
   "cell_type": "markdown",
   "metadata": {},
   "source": [
    "## Lausn \n",
    "\n",
    "#### a. **Dæmi um vensl á mengi sem eru bæði samhverf og andsamhverf.**\n",
    "\n",
    "Skilgreinum samhverf og andsamhverf vensl\n",
    "\n",
    "**Samhverf vensl**:\n",
    "Vensl $R$ á mengi $A$ er sögð samhverf ef fyrir öll $x, y \\in A$ gildir:\n",
    "- Ef $xRy$, þá $yRx$\n",
    "\n",
    "**Andsamhverf vensl**:\n",
    "Vensl $R$ á mengi $A$ eru sögð andsamhverf ef öll $x,y \\in A$ gildir:\n",
    "- Ef $xRy$ og $yRx$, þá er $x = y$\n",
    "\n",
    "**Dæmi um vensl sem eru bæði samhver og andsamhverf**\n",
    "\n",
    "Hugsum okkur megið $A = \\{1\\}$ og venslin $R$ skilgreind á þvi megni þannig að $R = \\{(1,1)\\}$\n",
    "\n",
    "- **Samhverf**: Fyrir öll $x,y \\in A$ þar sem $xRy$, þá $yRx$. í Þessu tilfelli höfum við aðeins eina pörun, $(1,1)$. Ef $1R1$, þá $1R1$, sem uppfyllir skilyrði samhverfu.\n",
    "- **Andsamhverfa**: Ef $xRy$ og $yRx$ gildir, þá er $x = y$. Í þessu tilfelli er aðeisn ein pörun $(1,1)$, og hér er $x = y = 1$ sem uppfyllir skilyrði andsamhverfu.\n",
    "\n",
    "Þetta dæmi sýnir að venslin $R = \\{(1,1)\\}$ eru bæði samhverf og andsamhverf.\n",
    "\n",
    "#### b. **Munur á milli falla og vensla.**\n",
    "\n",
    "- **Fall**: Fall $f$ frá mengi $A$ í mengi $B$ er sérstök tegund vensla þar sem hvert stak í $A$ hefur nákvæmnlega eitt svarandi stak í $B$. Með öðrum orðum, fyrir hvert $x \\in A$ er til eitt og aðeins eitt $y \\in B$ þannig að $f(x) = y$ \n",
    "- **Vensl**: Vensl á milli tveggja mengja $A$ og $B$ er einhverskona safn af pörum $(x,y)$ þar sem $x \\in A$ og $y \\in B$. Þetta safn af pörum þarf ekki að uppfylla nein skilyrði varðandi fjölda eða einstök venls milli staka.\n",
    "  \n",
    "**Dæmi til að skýra muninn:**\n",
    "\n",
    "- **Fall:** Hugsum okkur fallið $f : \\mathbb{R} \\rightarrow \\mathbb{R}$ skilgreint með $f(x) = x^2$. Hér er hverju $x$ úr mengi $\\mathbb{R}$ svarað með nákvæmnlega einu staki $y = x^2$ í $\\mathbb{R}$\n",
    "- ***Vensl:* Hugsum okkur að venlin $R$ á milli $\\mathbb{R}$ þar sem $xRy$ ef $x \\le y$. Hér getur eitt stak $x$ í $\\mathbb{R}$ haft mögulega svarendur $y$ í $\\mathbb{R}$.\n",
    "\n",
    "**Munurinn:** Munurinn á falli og venslu felst í því að fall tryggir að hvert stak í menginu $A$ hefur aðeins eitt svarandi stak í $B$, en vensl getur verið miklu almennara, þar sem eitt stak $A$ getur haft engin, eitt eða fleir svarandi stök í $B$\n",
    "    \n",
    "\n"
   ]
  }
 ],
 "metadata": {
  "language_info": {
   "name": "python"
  }
 },
 "nbformat": 4,
 "nbformat_minor": 2
}
